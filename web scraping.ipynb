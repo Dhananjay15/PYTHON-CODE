{
 "cells": [
  {
   "cell_type": "code",
   "execution_count": 1,
   "id": "dded3213-9b84-45bb-88a6-ac67a9ebe0d6",
   "metadata": {},
   "outputs": [],
   "source": [
    "import pandas as pd\n",
    "import requests\n",
    "from bs4 import BeautifulSoup\n",
    "import numpy as np"
   ]
  },
  {
   "cell_type": "code",
   "execution_count": 17,
   "id": "583de7c0-a1ae-4d0d-915f-59915180c552",
   "metadata": {},
   "outputs": [],
   "source": [
    "webpage = requests.get(\"https://www.ambitionbox.com/list-of-companies?page=2\").text"
   ]
  },
  {
   "cell_type": "code",
   "execution_count": 18,
   "id": "1d13943a-840f-416d-9bbd-857b6e99d01c",
   "metadata": {},
   "outputs": [],
   "source": [
    "soup = BeautifulSoup(webpage,\"html.parser\")"
   ]
  },
  {
   "cell_type": "code",
   "execution_count": 19,
   "id": "b7138a56-7b27-42e1-af3b-65061e2647c0",
   "metadata": {},
   "outputs": [],
   "source": [
    "#print(soup.prettify())"
   ]
  },
  {
   "cell_type": "code",
   "execution_count": 20,
   "id": "2d49b107-6c4f-4f52-94a8-bb339b38f27d",
   "metadata": {},
   "outputs": [
    {
     "name": "stdout",
     "output_type": "stream",
     "text": [
      "Samsung\n",
      "Maruti Suzuki\n",
      "Indian Army\n",
      "DXC Technology\n",
      "Infosys BPM\n",
      "Ericsson\n",
      "Bajaj Finserv\n",
      "HSBC\n",
      "Ernst & Young\n",
      "Startek\n",
      "Jana Small Finance...\n",
      "Conneqt Business S...\n",
      "Dr. Reddy's\n",
      "Cipla Pharmaceutic...\n",
      "ICICI Prudential L...\n",
      "Sutherland Global ...\n",
      "Mphasis\n",
      "Bajaj Allianz Life...\n",
      "IDFC FIRST Bank\n",
      "Home Credit Financ...\n",
      "Lupin\n",
      "Yes Bank\n",
      "Asian Paints\n",
      "Intelenet Global S...\n",
      "HDFC LIFE\n",
      "ITC\n",
      "Hewlett-Packard En...\n",
      "NTT DATA\n",
      "Zydus Cadila\n"
     ]
    }
   ],
   "source": [
    "for i in soup.find_all('h2'):\n",
    "    print(i.text.strip())"
   ]
  },
  {
   "cell_type": "code",
   "execution_count": 25,
   "id": "b2807987-3ea7-425f-a15a-4b31f3a1de54",
   "metadata": {},
   "outputs": [
    {
     "name": "stdout",
     "output_type": "stream",
     "text": [
      "4.1\n",
      "4.1\n",
      "4.7\n",
      "3.5\n",
      "4.0\n",
      "4.2\n",
      "4.0\n",
      "4.1\n",
      "3.7\n",
      "3.6\n",
      "3.9\n",
      "3.8\n",
      "4.2\n",
      "4.0\n",
      "4.1\n",
      "3.8\n",
      "3.7\n",
      "4.1\n",
      "3.8\n",
      "4.2\n",
      "4.2\n",
      "3.9\n",
      "4.3\n",
      "3.7\n",
      "4.1\n",
      "4.0\n",
      "4.3\n",
      "3.8\n",
      "4.1\n"
     ]
    }
   ],
   "source": [
    "for i in soup.find_all('p',class_='rating'):\n",
    "    print(i.text.strip())"
   ]
  },
  {
   "cell_type": "code",
   "execution_count": 27,
   "id": "c3b89465-5ee1-417f-b78d-6fd205e95802",
   "metadata": {},
   "outputs": [
    {
     "data": {
      "text/plain": [
       "29"
      ]
     },
     "execution_count": 27,
     "metadata": {},
     "output_type": "execute_result"
    }
   ],
   "source": [
    "company = soup.find_all('div',class_='company-content-wrapper')\n",
    "len(company)"
   ]
  },
  {
   "cell_type": "code",
   "execution_count": 52,
   "id": "0a3c27a1-a616-478c-8ded-8b41061b22a0",
   "metadata": {},
   "outputs": [],
   "source": [
    "final=pd.DataFrame()\n",
    "\n",
    "for j in range(1,333):\n",
    "    url = \"https://www.ambitionbox.com/list-of-companies?page={}\".format(j)\n",
    "    webpage = requests.get(url).text\n",
    "    soup = BeautifulSoup(webpage,\"html.parser\")\n",
    "    company = soup.find_all('div',class_='company-content-wrapper')\n",
    "\n",
    "    company_name=[]\n",
    "    rating=[]\n",
    "    reviews=[]\n",
    "    company_type=[]\n",
    "    hq=[]\n",
    "    old=[]\n",
    "    employees=[]\n",
    "\n",
    "    for i in company:\n",
    "        company_name.append(i.find('h2').text.strip())\n",
    "        rating.append(i.find('p').text.strip())\n",
    "        reviews.append(i.find('a',class_='review-count').text.strip())\n",
    "    \n",
    "    for i in range(len(company)):    \n",
    "        try:\n",
    "            company_type.append(company[i].find_all('p',class_='infoEntity')[0].text.strip())\n",
    "        except:\n",
    "            company_type.append(np.nan)\n",
    "        try:\n",
    "            hq.append(company[i].find_all('p',class_='infoEntity')[1].text.strip())\n",
    "        except:\n",
    "            hq.append(np.nan)\n",
    "        try:\n",
    "            old.append(company[i].find_all('p',class_='infoEntity')[2].text.strip())\n",
    "        except:\n",
    "            old.append(np.nan)\n",
    "        try:\n",
    "            employees.append(company[i].find_all('p',class_='infoEntity')[3].text.strip())\n",
    "        except:\n",
    "            employees.append(np.nan)\n",
    "\n",
    "    d = {'name':company_name, 'rating':rating, 'review':reviews, 'ct':company_type, 'hq':hq, 'old':old, 'employees':employees}        \n",
    "    df = pd.DataFrame(d)\n",
    "    final = final.append(df,ignore_index=True)"
   ]
  },
  {
   "cell_type": "code",
   "execution_count": 53,
   "id": "0a7ff334-7903-4776-baf9-7fb6f203ebc9",
   "metadata": {},
   "outputs": [
    {
     "data": {
      "text/html": [
       "<div>\n",
       "<style scoped>\n",
       "    .dataframe tbody tr th:only-of-type {\n",
       "        vertical-align: middle;\n",
       "    }\n",
       "\n",
       "    .dataframe tbody tr th {\n",
       "        vertical-align: top;\n",
       "    }\n",
       "\n",
       "    .dataframe thead th {\n",
       "        text-align: right;\n",
       "    }\n",
       "</style>\n",
       "<table border=\"1\" class=\"dataframe\">\n",
       "  <thead>\n",
       "    <tr style=\"text-align: right;\">\n",
       "      <th></th>\n",
       "      <th>name</th>\n",
       "      <th>rating</th>\n",
       "      <th>review</th>\n",
       "      <th>ct</th>\n",
       "      <th>hq</th>\n",
       "      <th>old</th>\n",
       "      <th>employees</th>\n",
       "    </tr>\n",
       "  </thead>\n",
       "  <tbody>\n",
       "    <tr>\n",
       "      <th>0</th>\n",
       "      <td>TCS</td>\n",
       "      <td>3.9</td>\n",
       "      <td>(27.9k Reviews)</td>\n",
       "      <td>Public</td>\n",
       "      <td>Mumbai,Maharashtra + 208 more</td>\n",
       "      <td>54 years old</td>\n",
       "      <td>1 Lakh+ employees (India)</td>\n",
       "    </tr>\n",
       "    <tr>\n",
       "      <th>1</th>\n",
       "      <td>Accenture</td>\n",
       "      <td>4.0</td>\n",
       "      <td>(21.3k Reviews)</td>\n",
       "      <td>Public</td>\n",
       "      <td>Dublin,Dublin + 124 more</td>\n",
       "      <td>33 years old</td>\n",
       "      <td>1 Lakh+ employees (India)</td>\n",
       "    </tr>\n",
       "    <tr>\n",
       "      <th>2</th>\n",
       "      <td>Cognizant</td>\n",
       "      <td>3.9</td>\n",
       "      <td>(19.5k Reviews)</td>\n",
       "      <td>Private</td>\n",
       "      <td>Teaneck,New Jersey + 72 more</td>\n",
       "      <td>28 years old</td>\n",
       "      <td>1 Lakh+ employees (India)</td>\n",
       "    </tr>\n",
       "    <tr>\n",
       "      <th>3</th>\n",
       "      <td>ICICI Bank</td>\n",
       "      <td>4.0</td>\n",
       "      <td>(18.8k Reviews)</td>\n",
       "      <td>Public</td>\n",
       "      <td>Mumbai,Maharashtra + 908 more</td>\n",
       "      <td>28 years old</td>\n",
       "      <td>50k-1 Lakh employees (India)</td>\n",
       "    </tr>\n",
       "    <tr>\n",
       "      <th>4</th>\n",
       "      <td>HDFC Bank</td>\n",
       "      <td>4.0</td>\n",
       "      <td>(16.7k Reviews)</td>\n",
       "      <td>Public</td>\n",
       "      <td>Mumbai,Maharashtra + 979 more</td>\n",
       "      <td>28 years old</td>\n",
       "      <td>1 Lakh+ employees (India)</td>\n",
       "    </tr>\n",
       "    <tr>\n",
       "      <th>...</th>\n",
       "      <td>...</td>\n",
       "      <td>...</td>\n",
       "      <td>...</td>\n",
       "      <td>...</td>\n",
       "      <td>...</td>\n",
       "      <td>...</td>\n",
       "      <td>...</td>\n",
       "    </tr>\n",
       "    <tr>\n",
       "      <th>9952</th>\n",
       "      <td>Accord Software &amp; ...</td>\n",
       "      <td>3.3</td>\n",
       "      <td>(38 Reviews)</td>\n",
       "      <td>Private</td>\n",
       "      <td>Bangalore/Bengaluru,Karnataka</td>\n",
       "      <td>31 years old</td>\n",
       "      <td>201-500 employees (Global)</td>\n",
       "    </tr>\n",
       "    <tr>\n",
       "      <th>9953</th>\n",
       "      <td>Nitin Spinners</td>\n",
       "      <td>4.0</td>\n",
       "      <td>(38 Reviews)</td>\n",
       "      <td>Public</td>\n",
       "      <td>Bhilwara,Rajasthan + 2 more</td>\n",
       "      <td>30 years old</td>\n",
       "      <td>1k-5k employees (Global)</td>\n",
       "    </tr>\n",
       "    <tr>\n",
       "      <th>9954</th>\n",
       "      <td>AnRak Aluminium</td>\n",
       "      <td>3.9</td>\n",
       "      <td>(38 Reviews)</td>\n",
       "      <td>Private</td>\n",
       "      <td>Visakhapatnam/Vizag,Andhra Pradesh + 4 more</td>\n",
       "      <td>15 years old</td>\n",
       "      <td>501-1k employees (Global)</td>\n",
       "    </tr>\n",
       "    <tr>\n",
       "      <th>9955</th>\n",
       "      <td>Ultratech India</td>\n",
       "      <td>3.7</td>\n",
       "      <td>(38 Reviews)</td>\n",
       "      <td>Private</td>\n",
       "      <td>Navi Mumbai + 17 more</td>\n",
       "      <td>30 years old</td>\n",
       "      <td>501-1k employees (Global)</td>\n",
       "    </tr>\n",
       "    <tr>\n",
       "      <th>9956</th>\n",
       "      <td>YouTube</td>\n",
       "      <td>4.4</td>\n",
       "      <td>(38 Reviews)</td>\n",
       "      <td>Private</td>\n",
       "      <td>San Bruno,CA + 14 more</td>\n",
       "      <td>17 years old</td>\n",
       "      <td>10k-50k employees (India)</td>\n",
       "    </tr>\n",
       "  </tbody>\n",
       "</table>\n",
       "<p>9957 rows × 7 columns</p>\n",
       "</div>"
      ],
      "text/plain": [
       "                       name rating           review       ct  \\\n",
       "0                       TCS    3.9  (27.9k Reviews)   Public   \n",
       "1                 Accenture    4.0  (21.3k Reviews)   Public   \n",
       "2                 Cognizant    3.9  (19.5k Reviews)  Private   \n",
       "3                ICICI Bank    4.0  (18.8k Reviews)   Public   \n",
       "4                 HDFC Bank    4.0  (16.7k Reviews)   Public   \n",
       "...                     ...    ...              ...      ...   \n",
       "9952  Accord Software & ...    3.3     (38 Reviews)  Private   \n",
       "9953         Nitin Spinners    4.0     (38 Reviews)   Public   \n",
       "9954        AnRak Aluminium    3.9     (38 Reviews)  Private   \n",
       "9955        Ultratech India    3.7     (38 Reviews)  Private   \n",
       "9956                YouTube    4.4     (38 Reviews)  Private   \n",
       "\n",
       "                                               hq           old  \\\n",
       "0                   Mumbai,Maharashtra + 208 more  54 years old   \n",
       "1                        Dublin,Dublin + 124 more  33 years old   \n",
       "2                    Teaneck,New Jersey + 72 more  28 years old   \n",
       "3                   Mumbai,Maharashtra + 908 more  28 years old   \n",
       "4                   Mumbai,Maharashtra + 979 more  28 years old   \n",
       "...                                           ...           ...   \n",
       "9952                Bangalore/Bengaluru,Karnataka  31 years old   \n",
       "9953                  Bhilwara,Rajasthan + 2 more  30 years old   \n",
       "9954  Visakhapatnam/Vizag,Andhra Pradesh + 4 more  15 years old   \n",
       "9955                        Navi Mumbai + 17 more  30 years old   \n",
       "9956                       San Bruno,CA + 14 more  17 years old   \n",
       "\n",
       "                         employees  \n",
       "0        1 Lakh+ employees (India)  \n",
       "1        1 Lakh+ employees (India)  \n",
       "2        1 Lakh+ employees (India)  \n",
       "3     50k-1 Lakh employees (India)  \n",
       "4        1 Lakh+ employees (India)  \n",
       "...                            ...  \n",
       "9952    201-500 employees (Global)  \n",
       "9953      1k-5k employees (Global)  \n",
       "9954     501-1k employees (Global)  \n",
       "9955     501-1k employees (Global)  \n",
       "9956     10k-50k employees (India)  \n",
       "\n",
       "[9957 rows x 7 columns]"
      ]
     },
     "execution_count": 53,
     "metadata": {},
     "output_type": "execute_result"
    }
   ],
   "source": [
    "final"
   ]
  },
  {
   "cell_type": "code",
   "execution_count": 54,
   "id": "5adbfc9e-acb7-4c79-83ce-db5286f4b04a",
   "metadata": {},
   "outputs": [
    {
     "data": {
      "text/plain": [
       "name            0\n",
       "rating          0\n",
       "review          0\n",
       "ct             11\n",
       "hq            174\n",
       "old           576\n",
       "employees    2671\n",
       "dtype: int64"
      ]
     },
     "execution_count": 54,
     "metadata": {},
     "output_type": "execute_result"
    }
   ],
   "source": [
    "final.isnull().sum()"
   ]
  },
  {
   "cell_type": "code",
   "execution_count": 2,
   "id": "ec35ce50-5fb3-44c7-8787-0f5b223c1dd9",
   "metadata": {},
   "outputs": [],
   "source": [
    "webpage = requests.get(\"https://fruitsandveggies.org/fruits-and-veggies/almonds/?view=facts\").text"
   ]
  },
  {
   "cell_type": "code",
   "execution_count": 3,
   "id": "928f4d64",
   "metadata": {},
   "outputs": [],
   "source": [
    "soup = BeautifulSoup(webpage,\"html.parser\")"
   ]
  },
  {
   "cell_type": "code",
   "execution_count": 4,
   "id": "93c3e7f4",
   "metadata": {},
   "outputs": [
    {
     "name": "stdout",
     "output_type": "stream",
     "text": [
      "SELECT\n",
      "STORE\n",
      "SERVE\n",
      "Other Fruits & Veggies\n"
     ]
    }
   ],
   "source": [
    "for i in soup.find_all('h4'):\n",
    "    \n",
    "    print(i.text.strip())"
   ]
  }
 ],
 "metadata": {
  "kernelspec": {
   "display_name": "Python 3 (ipykernel)",
   "language": "python",
   "name": "python3"
  },
  "language_info": {
   "codemirror_mode": {
    "name": "ipython",
    "version": 3
   },
   "file_extension": ".py",
   "mimetype": "text/x-python",
   "name": "python",
   "nbconvert_exporter": "python",
   "pygments_lexer": "ipython3",
   "version": "3.8.13"
  }
 },
 "nbformat": 4,
 "nbformat_minor": 5
}
