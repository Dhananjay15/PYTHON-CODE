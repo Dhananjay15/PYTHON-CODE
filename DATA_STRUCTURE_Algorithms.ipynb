{
 "cells": [
  {
   "cell_type": "markdown",
   "metadata": {},
   "source": [
    "# **LINEAR SEARCH**"
   ]
  },
  {
   "cell_type": "code",
   "execution_count": 2,
   "metadata": {},
   "outputs": [
    {
     "data": {
      "text/plain": [
       "4"
      ]
     },
     "execution_count": 2,
     "metadata": {},
     "output_type": "execute_result"
    }
   ],
   "source": [
    "#O(n)\n",
    "def linear_search(a,n,x):\n",
    "    for i in range(0,n):\n",
    "        if a[i] == x:\n",
    "            return i\n",
    "    return -1\n",
    "\n",
    "a = [1,2,3,4,5,6,7,8,9,10]\n",
    "x = 5\n",
    "n=len(a)\n",
    "linear_search(a,n,x)"
   ]
  },
  {
   "cell_type": "markdown",
   "metadata": {},
   "source": [
    "# **BINARY SEARCH**'"
   ]
  },
  {
   "cell_type": "code",
   "execution_count": 12,
   "metadata": {},
   "outputs": [
    {
     "data": {
      "text/plain": [
       "4"
      ]
     },
     "execution_count": 12,
     "metadata": {},
     "output_type": "execute_result"
    }
   ],
   "source": [
    "#O(log(n))\n",
    "#sorted array\n",
    "def binary_search(a,x,h,l):\n",
    "    while l<=h:\n",
    "        mid = l + (h-l)//2\n",
    "        if x == a[mid]:\n",
    "            return mid\n",
    "        elif x < a[mid]:\n",
    "            h = mid-1\n",
    "        else:\n",
    "            l = mid+1\n",
    "    return -1\n",
    "\n",
    "a = [3, 4, 5, 6, 7, 8, 9]\n",
    "x = 7\n",
    "binary_search(a,x,len(a)-1,0)"
   ]
  }
 ],
 "metadata": {
  "kernelspec": {
   "display_name": "Python 3.8.10 64-bit",
   "language": "python",
   "name": "python3"
  },
  "language_info": {
   "codemirror_mode": {
    "name": "ipython",
    "version": 3
   },
   "file_extension": ".py",
   "mimetype": "text/x-python",
   "name": "python",
   "nbconvert_exporter": "python",
   "pygments_lexer": "ipython3",
   "version": "3.8.10"
  },
  "orig_nbformat": 4,
  "vscode": {
   "interpreter": {
    "hash": "e7370f93d1d0cde622a1f8e1c04877d8463912d04d973331ad4851f04de6915a"
   }
  }
 },
 "nbformat": 4,
 "nbformat_minor": 2
}
