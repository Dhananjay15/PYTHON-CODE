{
 "cells": [
  {
   "cell_type": "code",
   "execution_count": 1,
   "id": "f32d903f",
   "metadata": {},
   "outputs": [
    {
     "name": "stdout",
     "output_type": "stream",
     "text": [
      "3.25.0\n"
     ]
    }
   ],
   "source": [
    "import cassandra\n",
    "print(cassandra.__version__)"
   ]
  },
  {
   "cell_type": "code",
   "execution_count": 7,
   "id": "b15cf93f",
   "metadata": {},
   "outputs": [
    {
     "name": "stdout",
     "output_type": "stream",
     "text": [
      "<cassandra.cluster.ResultSet object at 0x0000010A1E7F0CF8>\n"
     ]
    }
   ],
   "source": [
    "from cassandra.cluster import Cluster\n",
    "from cassandra.auth import PlainTextAuthProvider\n",
    "\n",
    "cloud_config= {\n",
    "        'secure_connect_bundle': r'C:\\Users\\dhana\\Downloads\\Machine_learning_notes\\secure-connect-try1.zip'\n",
    "}\n",
    "auth_provider = PlainTextAuthProvider('kgmTSlsZjUmMvqFCMlXzleHk', 'c6,NzyJzmgr+xaxmJs-I_F8BG5w+mB8qAJ1eqo2ePQMCrzdD+,Sds4sZhJKYPw9ilAkQ3kjLbkFcNdwE.DOKEBLZ_gZU+qeD-9ZxJT8zga-cGeDEjUKloqE9sE.WquAx')\n",
    "cluster = Cluster(cloud=cloud_config, auth_provider=auth_provider)\n",
    "session = cluster.connect()\n",
    "\n",
    "row = session.execute(\"select release_version from system.local\")\n",
    "print(row)"
   ]
  },
  {
   "cell_type": "code",
   "execution_count": 11,
   "id": "bca56ef1",
   "metadata": {},
   "outputs": [],
   "source": [
    "# create keyspace in database\n",
    "#row = session.execute(\"CREATE KEYSPACE try1 WITH replication = {'class': 'SimpleStrategy', 'replication_factor' : 4};\")"
   ]
  },
  {
   "cell_type": "code",
   "execution_count": 12,
   "id": "8ba7a0ea",
   "metadata": {},
   "outputs": [],
   "source": [
    "#use keyspace\n",
    "row=session.execute(\"use try1;\")"
   ]
  },
  {
   "cell_type": "code",
   "execution_count": 13,
   "id": "348f4b07",
   "metadata": {},
   "outputs": [],
   "source": [
    "#creating table in the keyspace\n",
    "row=session.execute(\"CREATE TABLE Members(id int PRIMARY KEY,name text,age int,height int);\")"
   ]
  },
  {
   "cell_type": "code",
   "execution_count": 14,
   "id": "4e5bd2df",
   "metadata": {},
   "outputs": [],
   "source": [
    "#inserting into table\n",
    "row=session.execute(\"INSERT INTO Members(id,name,age,height) VALUES (1,'mohit',25,160);\")"
   ]
  },
  {
   "cell_type": "code",
   "execution_count": 15,
   "id": "02837877",
   "metadata": {},
   "outputs": [],
   "source": [
    "row=session.execute(\"INSERT INTO Members(id,name,age,height) VALUES (2,'shubham',26,165);\")\n",
    "row=session.execute(\"INSERT INTO Members(id,name,age,height) VALUES (3,'aradhana',25,142);\")\n",
    "row=session.execute(\"INSERT INTO Members(id,name,age,height) VALUES (4,'rakesh',55,157);\")\n",
    "row=session.execute(\"INSERT INTO Members(id,name,age,height) VALUES (5,'poonam',52,145);\")\n",
    "row=session.execute(\"INSERT INTO Members(id,name,age,height) VALUES (6,'seema',30,145);\")"
   ]
  },
  {
   "cell_type": "code",
   "execution_count": 16,
   "id": "65082196",
   "metadata": {},
   "outputs": [
    {
     "name": "stdout",
     "output_type": "stream",
     "text": [
      "Row(id=5, age=52, height=145, name='poonam')\n",
      "Row(id=1, age=25, height=160, name='mohit')\n",
      "Row(id=2, age=26, height=165, name='shubham')\n",
      "Row(id=4, age=55, height=157, name='rakesh')\n",
      "Row(id=6, age=30, height=145, name='seema')\n",
      "Row(id=3, age=25, height=142, name='aradhana')\n"
     ]
    }
   ],
   "source": [
    "#view the data in table\n",
    "row=session.execute(\"select * from Members;\")\n",
    "for i in row:\n",
    "    print(i)"
   ]
  },
  {
   "cell_type": "code",
   "execution_count": 17,
   "id": "ac28fbac",
   "metadata": {},
   "outputs": [],
   "source": [
    "#alter existing table (adding more columns to table)\n",
    "row=session.execute(\"ALTER TABLE Members ADD email varchar;\")"
   ]
  },
  {
   "cell_type": "code",
   "execution_count": 18,
   "id": "ff5bf1eb",
   "metadata": {},
   "outputs": [
    {
     "name": "stdout",
     "output_type": "stream",
     "text": [
      "Row(id=5, age=52, email=None, height=145, name='poonam')\n",
      "Row(id=1, age=25, email=None, height=160, name='mohit')\n",
      "Row(id=2, age=26, email=None, height=165, name='shubham')\n",
      "Row(id=4, age=55, email=None, height=157, name='rakesh')\n",
      "Row(id=6, age=30, email=None, height=145, name='seema')\n",
      "Row(id=3, age=25, email=None, height=142, name='aradhana')\n"
     ]
    }
   ],
   "source": [
    "row=session.execute(\"select * from Members;\")\n",
    "for i in row:\n",
    "    print(i)"
   ]
  },
  {
   "cell_type": "code",
   "execution_count": 19,
   "id": "10d970d9",
   "metadata": {},
   "outputs": [],
   "source": [
    "#truncating (removing all data from table)\n",
    "row=session.execute(\"TRUNCATE Members;\")"
   ]
  },
  {
   "cell_type": "code",
   "execution_count": 20,
   "id": "d6744365",
   "metadata": {},
   "outputs": [],
   "source": [
    "row=session.execute(\"select * from Members;\")\n",
    "for i in row:\n",
    "    print(i)"
   ]
  },
  {
   "cell_type": "code",
   "execution_count": 21,
   "id": "782eea2d",
   "metadata": {},
   "outputs": [],
   "source": [
    "#dropping the table\n",
    "row=session.execute(\"DROP TABLE if exists Member;\")"
   ]
  },
  {
   "cell_type": "code",
   "execution_count": 22,
   "id": "94a409be",
   "metadata": {},
   "outputs": [],
   "source": [
    "#table is empty now\n",
    "for i in row:\n",
    "    print(i)"
   ]
  },
  {
   "cell_type": "code",
   "execution_count": 23,
   "id": "00b24347",
   "metadata": {},
   "outputs": [],
   "source": [
    "row=session.execute(\"INSERT INTO Members(id,name,age,height,email) VALUES (2,'shubham',26,165,'memohit@gmail.com');\")\n",
    "row=session.execute(\"INSERT INTO Members(id,name,age,height) VALUES (3,'aradhana',25,142);\")\n",
    "row=session.execute(\"INSERT INTO Members(id,name,age,height) VALUES (4,'rakesh',55,157);\")\n",
    "row=session.execute(\"INSERT INTO Members(id,name,age,height) VALUES (5,'poonam',52,145);\")\n",
    "row=session.execute(\"INSERT INTO Members(id,name,age,height) VALUES (6,'seema',30,145);\")"
   ]
  },
  {
   "cell_type": "code",
   "execution_count": 24,
   "id": "024762e5",
   "metadata": {},
   "outputs": [],
   "source": [
    "#update existing table \n",
    "row=session.execute(\"UPDATE try1.Members SET name= 'Mohit Raghav',age = 28 WHERE id=1;\")"
   ]
  },
  {
   "cell_type": "code",
   "execution_count": 25,
   "id": "d0847d98",
   "metadata": {},
   "outputs": [
    {
     "name": "stdout",
     "output_type": "stream",
     "text": [
      "Row(id=5, age=52, email=None, height=145, name='poonam')\n",
      "Row(id=1, age=28, email=None, height=None, name='Mohit Raghav')\n",
      "Row(id=2, age=26, email='memohit@gmail.com', height=165, name='shubham')\n",
      "Row(id=4, age=55, email=None, height=157, name='rakesh')\n",
      "Row(id=6, age=30, email=None, height=145, name='seema')\n",
      "Row(id=3, age=25, email=None, height=142, name='aradhana')\n"
     ]
    }
   ],
   "source": [
    "#view the data in table \n",
    "row=session.execute(\"select * from Members;\")\n",
    "for i in row:\n",
    "    print(i)"
   ]
  },
  {
   "cell_type": "code",
   "execution_count": 26,
   "id": "1acf5305",
   "metadata": {},
   "outputs": [],
   "source": [
    "#delete a particular row or a part of row\n",
    "row=session.execute(\"DELETE age FROM Members WHERE id=3;\")"
   ]
  },
  {
   "cell_type": "code",
   "execution_count": 27,
   "id": "449be5df",
   "metadata": {},
   "outputs": [
    {
     "name": "stdout",
     "output_type": "stream",
     "text": [
      "Row(id=5, age=52, email=None, height=145, name='poonam')\n",
      "Row(id=1, age=28, email=None, height=None, name='Mohit Raghav')\n",
      "Row(id=2, age=26, email='memohit@gmail.com', height=165, name='shubham')\n",
      "Row(id=4, age=55, email=None, height=157, name='rakesh')\n",
      "Row(id=6, age=30, email=None, height=145, name='seema')\n",
      "Row(id=3, age=None, email=None, height=142, name='aradhana')\n"
     ]
    }
   ],
   "source": [
    "#view the data in table \n",
    "row=session.execute(\"select * from Members;\")\n",
    "for i in row:\n",
    "    print(i)"
   ]
  },
  {
   "cell_type": "code",
   "execution_count": 28,
   "id": "428e4e18",
   "metadata": {},
   "outputs": [
    {
     "name": "stdout",
     "output_type": "stream",
     "text": [
      "Row(name='Mohit Raghav', age=28)\n"
     ]
    }
   ],
   "source": [
    "#selecting particular data\n",
    "row=session.execute(\"SELECT name, age FROM Members WHERE id = 1;\")\n",
    "\n",
    "for i in row:\n",
    "    print(i)"
   ]
  },
  {
   "cell_type": "code",
   "execution_count": null,
   "id": "450bfb3b",
   "metadata": {},
   "outputs": [],
   "source": [
    "'''\n",
    "import csv\n",
    "with open('cric.csv','r') as data:\n",
    "    next(data)\n",
    "    data_csv= csv.reader(data,delimiter=',')\n",
    "    #csv reader object\n",
    "    print(data_csv)\n",
    "    all_value= []\n",
    "    for i in data_csv:\n",
    "        session.execute(\"insert into ineuro.dataa (idd,first_name,last_name) values(%s,%s,%s)\",[int(i[0]),i[1],i[2]])\n",
    "print('Finished')\n",
    "'''"
   ]
  },
  {
   "cell_type": "code",
   "execution_count": null,
   "id": "ba71f001",
   "metadata": {},
   "outputs": [],
   "source": []
  }
 ],
 "metadata": {
  "kernelspec": {
   "display_name": "Python 3 (ipykernel)",
   "language": "python",
   "name": "python3"
  },
  "language_info": {
   "codemirror_mode": {
    "name": "ipython",
    "version": 3
   },
   "file_extension": ".py",
   "mimetype": "text/x-python",
   "name": "python",
   "nbconvert_exporter": "python",
   "pygments_lexer": "ipython3",
   "version": "3.7.12"
  }
 },
 "nbformat": 4,
 "nbformat_minor": 5
}
