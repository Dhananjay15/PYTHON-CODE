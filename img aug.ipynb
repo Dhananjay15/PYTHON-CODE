{
 "cells": [
  {
   "cell_type": "code",
   "execution_count": 1,
   "id": "eddb2ead-14e5-4d3d-b553-02084c9d34be",
   "metadata": {},
   "outputs": [],
   "source": [
    "import imgaug.augmenters as iaa\n",
    "import cv2\n",
    "import glob"
   ]
  },
  {
   "cell_type": "code",
   "execution_count": 2,
   "id": "8762701a-07d4-4b93-a805-1bc43a195453",
   "metadata": {},
   "outputs": [],
   "source": [
    "# 1. Load Dataset\n",
    "images = []\n",
    "images_path = glob.glob(r\"C:\\Users\\dhana\\OneDrive\\Desktop\\signature\\test\\*\")\n",
    "for img_path in images_path:\n",
    "    img = cv2.imread(img_path)\n",
    "    images.append(img)\n",
    "    \n"
   ]
  },
  {
   "cell_type": "code",
   "execution_count": 2,
   "id": "deff2d60-abff-4de6-ae86-8c73d99f04fe",
   "metadata": {},
   "outputs": [],
   "source": [
    "# 2. Image Augmentation\n",
    "augmentation = iaa.Sequential([\n",
    "    # 1. Flip\n",
    "    iaa.Fliplr(0.5),\n",
    "    iaa.Flipud(0.5),\n",
    "\n",
    "    # 2. Affine\n",
    "    iaa.Affine(translate_percent={\"x\": (-0.2, 0.2), \"y\": (-0.2, 0.2)},\n",
    "               rotate=(-30, 30),\n",
    "               scale=(0.5, 1.5)),\n",
    "\n",
    "    # 3. Multiply\n",
    "    iaa.Multiply((0.8, 1.2)),\n",
    "\n",
    "    # 4. Linearcontrast\n",
    "    iaa.LinearContrast((0.6, 1.4)),\n",
    "\n",
    "    # Perform methods below only sometimes\n",
    "    iaa.Sometimes(0.5,\n",
    "        # 5. GaussianBlur\n",
    "        iaa.GaussianBlur((0.0, 3.0))\n",
    "        )\n",
    "\n",
    "])"
   ]
  },
  {
   "cell_type": "code",
   "execution_count": 4,
   "id": "306e8456-21de-42e2-b26a-6850b8c6ffd3",
   "metadata": {},
   "outputs": [],
   "source": [
    "augmented_images = augmentation(images=images)"
   ]
  },
  {
   "cell_type": "code",
   "execution_count": null,
   "id": "4ef4e02a-c11f-4e10-8b14-7dc08fe70bb5",
   "metadata": {},
   "outputs": [],
   "source": []
  },
  {
   "cell_type": "code",
   "execution_count": 42,
   "id": "2ef48e4d-4d49-421d-9afe-8e11ef1c9337",
   "metadata": {},
   "outputs": [],
   "source": [
    "path =  r\"C:\\Users\\dhana\\OneDrive\\Desktop\\signature\\TRAINING\\*\"\n",
    "for bb,file in enumerate (glob.glob(path)):\n",
    "    image_read = cv2.imread(file)\n",
    "    c =  augmentation(image = image_read)\n",
    "    cv2.imwrite(r'C:\\Users\\dhana\\OneDrive\\Desktop\\signature\\Train_Aug\\{}.png'.format(bb+1), c)"
   ]
  },
  {
   "cell_type": "code",
   "execution_count": null,
   "id": "5dc73e03",
   "metadata": {},
   "outputs": [],
   "source": []
  },
  {
   "cell_type": "code",
   "execution_count": 4,
   "id": "1886073a",
   "metadata": {},
   "outputs": [],
   "source": [
    "path =r'C:\\Users\\dhana\\Downloads\\HACKATHON\\DATASET\\TRAINING-SET\\PPHOTO\\*'\n",
    "for bb,file in enumerate (glob.glob(path)):\n",
    "    image_read = cv2.imread(file)\n",
    "    c =  augmentation(image = image_read)\n",
    "    cv2.imwrite(r\"C:\\Users\\dhana\\Downloads\\HACKATHON\\DATASET\\TRAINING-SET\\ta\\{}.png\".format(bb+1), c)"
   ]
  },
  {
   "cell_type": "code",
   "execution_count": null,
   "id": "0585994f",
   "metadata": {},
   "outputs": [],
   "source": []
  }
 ],
 "metadata": {
  "kernelspec": {
   "display_name": "Python 3 (ipykernel)",
   "language": "python",
   "name": "python3"
  },
  "language_info": {
   "codemirror_mode": {
    "name": "ipython",
    "version": 3
   },
   "file_extension": ".py",
   "mimetype": "text/x-python",
   "name": "python",
   "nbconvert_exporter": "python",
   "pygments_lexer": "ipython3",
   "version": "3.7.11"
  }
 },
 "nbformat": 4,
 "nbformat_minor": 5
}
